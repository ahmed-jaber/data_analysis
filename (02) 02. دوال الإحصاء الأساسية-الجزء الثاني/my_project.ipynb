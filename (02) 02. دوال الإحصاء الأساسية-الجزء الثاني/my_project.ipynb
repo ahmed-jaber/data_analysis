{
 "cells": [
  {
   "cell_type": "code",
   "execution_count": 1,
   "metadata": {},
   "outputs": [
    {
     "name": "stdout",
     "output_type": "stream",
     "text": [
      "<class 'pandas.core.frame.DataFrame'>\n",
      "RangeIndex: 12 entries, 0 to 11\n",
      "Data columns (total 1 columns):\n",
      " #   Column  Non-Null Count  Dtype\n",
      "---  ------  --------------  -----\n",
      " 0   Mark    12 non-null     int64\n",
      "dtypes: int64(1)\n",
      "memory usage: 224.0 bytes\n"
     ]
    }
   ],
   "source": [
    "import pandas as pd\n",
    "df=pd.read_csv('marks.csv')\n",
    "df.info()"
   ]
  },
  {
   "cell_type": "code",
   "execution_count": 4,
   "metadata": {},
   "outputs": [
    {
     "name": "stdout",
     "output_type": "stream",
     "text": [
      "std= Mark    15.736466\n",
      "dtype: float64\n"
     ]
    }
   ],
   "source": [
    "print('std=',df.std())"
   ]
  },
  {
   "cell_type": "code",
   "execution_count": 6,
   "metadata": {},
   "outputs": [
    {
     "name": "stdout",
     "output_type": "stream",
     "text": [
      "mode=    Mark\n",
      "0    50\n",
      "1    75\n"
     ]
    }
   ],
   "source": [
    "print('mode=',df.mode())"
   ]
  },
  {
   "cell_type": "code",
   "execution_count": 13,
   "metadata": {},
   "outputs": [
    {
     "name": "stdout",
     "output_type": "stream",
     "text": [
      "<class 'pandas.core.frame.DataFrame'>\n",
      "RangeIndex: 10 entries, 0 to 9\n",
      "Data columns (total 2 columns):\n",
      " #   Column  Non-Null Count  Dtype\n",
      "---  ------  --------------  -----\n",
      " 0   Class1  10 non-null     int64\n",
      " 1   Class2  10 non-null     int64\n",
      "dtypes: int64(2)\n",
      "memory usage: 288.0 bytes\n",
      "None\n"
     ]
    },
    {
     "name": "stderr",
     "output_type": "stream",
     "text": [
      "C:\\Users\\asus\\AppData\\Local\\Temp\\ipykernel_8844\\1567253335.py:10: FutureWarning: The frame.append method is deprecated and will be removed from pandas in a future version. Use pandas.concat instead.\n",
      "  infoDf=infoDf.append(row, ignore_index = True)\n",
      "C:\\Users\\asus\\AppData\\Local\\Temp\\ipykernel_8844\\1567253335.py:15: FutureWarning: The frame.append method is deprecated and will be removed from pandas in a future version. Use pandas.concat instead.\n",
      "  infoDf=infoDf.append(row, ignore_index = True)\n",
      "C:\\Users\\asus\\AppData\\Local\\Temp\\ipykernel_8844\\1567253335.py:20: FutureWarning: The frame.append method is deprecated and will be removed from pandas in a future version. Use pandas.concat instead.\n",
      "  infoDf=infoDf.append(row, ignore_index = True)\n",
      "C:\\Users\\asus\\AppData\\Local\\Temp\\ipykernel_8844\\1567253335.py:25: FutureWarning: The frame.append method is deprecated and will be removed from pandas in a future version. Use pandas.concat instead.\n",
      "  infoDf=infoDf.append(row, ignore_index = True)\n",
      "C:\\Users\\asus\\AppData\\Local\\Temp\\ipykernel_8844\\1567253335.py:30: FutureWarning: The frame.append method is deprecated and will be removed from pandas in a future version. Use pandas.concat instead.\n",
      "  infoDf=infoDf.append(row, ignore_index = True)\n",
      "C:\\Users\\asus\\AppData\\Local\\Temp\\ipykernel_8844\\1567253335.py:35: FutureWarning: The frame.append method is deprecated and will be removed from pandas in a future version. Use pandas.concat instead.\n",
      "  infoDf=infoDf.append(row, ignore_index = True)\n",
      "C:\\Users\\asus\\AppData\\Local\\Temp\\ipykernel_8844\\1567253335.py:40: FutureWarning: The frame.append method is deprecated and will be removed from pandas in a future version. Use pandas.concat instead.\n",
      "  infoDf=infoDf.append(row, ignore_index = True)\n"
     ]
    },
    {
     "data": {
      "text/html": [
       "<div>\n",
       "<style scoped>\n",
       "    .dataframe tbody tr th:only-of-type {\n",
       "        vertical-align: middle;\n",
       "    }\n",
       "\n",
       "    .dataframe tbody tr th {\n",
       "        vertical-align: top;\n",
       "    }\n",
       "\n",
       "    .dataframe thead th {\n",
       "        text-align: right;\n",
       "    }\n",
       "</style>\n",
       "<table border=\"1\" class=\"dataframe\">\n",
       "  <thead>\n",
       "    <tr style=\"text-align: right;\">\n",
       "      <th></th>\n",
       "      <th>Stat</th>\n",
       "      <th>Class1</th>\n",
       "      <th>Class2</th>\n",
       "    </tr>\n",
       "  </thead>\n",
       "  <tbody>\n",
       "    <tr>\n",
       "      <th>0</th>\n",
       "      <td>Count</td>\n",
       "      <td>10</td>\n",
       "      <td>10</td>\n",
       "    </tr>\n",
       "    <tr>\n",
       "      <th>1</th>\n",
       "      <td>MIN</td>\n",
       "      <td>20</td>\n",
       "      <td>40</td>\n",
       "    </tr>\n",
       "    <tr>\n",
       "      <th>2</th>\n",
       "      <td>MAX</td>\n",
       "      <td>80</td>\n",
       "      <td>90</td>\n",
       "    </tr>\n",
       "    <tr>\n",
       "      <th>3</th>\n",
       "      <td>Mean</td>\n",
       "      <td>50.0</td>\n",
       "      <td>62.9</td>\n",
       "    </tr>\n",
       "    <tr>\n",
       "      <th>4</th>\n",
       "      <td>Median</td>\n",
       "      <td>51.5</td>\n",
       "      <td>61.0</td>\n",
       "    </tr>\n",
       "    <tr>\n",
       "      <th>5</th>\n",
       "      <td>std</td>\n",
       "      <td>19.402176</td>\n",
       "      <td>16.993136</td>\n",
       "    </tr>\n",
       "    <tr>\n",
       "      <th>6</th>\n",
       "      <td>Mode</td>\n",
       "      <td>50</td>\n",
       "      <td>50</td>\n",
       "    </tr>\n",
       "  </tbody>\n",
       "</table>\n",
       "</div>"
      ],
      "text/plain": [
       "     Stat     Class1     Class2\n",
       "0   Count         10         10\n",
       "1     MIN         20         40\n",
       "2     MAX         80         90\n",
       "3    Mean       50.0       62.9\n",
       "4  Median       51.5       61.0\n",
       "5     std  19.402176  16.993136\n",
       "6    Mode         50         50"
      ]
     },
     "execution_count": 13,
     "metadata": {},
     "output_type": "execute_result"
    }
   ],
   "source": [
    "df = pd.read_csv(\"marks2.csv\")\n",
    "\n",
    "print(df.info())\n",
    "\n",
    "infoDf = pd.DataFrame(columns = ['Stat','Class1','Class2'])\n",
    "\n",
    "x=df['Class1'].count()\n",
    "y=df['Class2'].count()\n",
    "row={'Stat':'Count','Class1':x, 'Class2':y}\n",
    "infoDf=infoDf.append(row, ignore_index = True)\n",
    "\n",
    "x=df['Class1'].min()\n",
    "y=df['Class2'].min()\n",
    "row={'Stat':'MIN','Class1':x, 'Class2':y}\n",
    "infoDf=infoDf.append(row, ignore_index = True)\n",
    "\n",
    "x=df['Class1'].max()\n",
    "y=df['Class2'].max()\n",
    "row={'Stat':'MAX','Class1':x, 'Class2':y}\n",
    "infoDf=infoDf.append(row, ignore_index = True)\n",
    "\n",
    "x=df['Class1'].mean()\n",
    "y=df['Class2'].mean()\n",
    "row={'Stat':'Mean','Class1':x, 'Class2':y}\n",
    "infoDf=infoDf.append(row, ignore_index = True)\n",
    "\n",
    "x=df['Class1'].median()\n",
    "y=df['Class2'].median()\n",
    "row={'Stat':'Median','Class1':x, 'Class2':y}\n",
    "infoDf=infoDf.append(row, ignore_index = True)\n",
    "\n",
    "x=df['Class1'].std()\n",
    "y=df['Class2'].std()\n",
    "row={'Stat':'std','Class1':x, 'Class2':y}\n",
    "infoDf=infoDf.append(row, ignore_index = True)\n",
    "\n",
    "x=df['Class1'].mode()[0]\n",
    "y=df['Class2'].mode()[0]\n",
    "row={'Stat':'Mode','Class1':x, 'Class2':y}\n",
    "infoDf=infoDf.append(row, ignore_index = True)\n",
    "\n",
    "infoDf\n",
    "\n"
   ]
  }
 ],
 "metadata": {
  "kernelspec": {
   "display_name": "base",
   "language": "python",
   "name": "python3"
  },
  "language_info": {
   "codemirror_mode": {
    "name": "ipython",
    "version": 3
   },
   "file_extension": ".py",
   "mimetype": "text/x-python",
   "name": "python",
   "nbconvert_exporter": "python",
   "pygments_lexer": "ipython3",
   "version": "3.10.9"
  },
  "orig_nbformat": 4
 },
 "nbformat": 4,
 "nbformat_minor": 2
}
