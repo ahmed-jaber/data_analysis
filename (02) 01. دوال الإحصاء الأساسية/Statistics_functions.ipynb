{
 "cells": [
  {
   "cell_type": "code",
   "execution_count": 1,
   "id": "58c6aae1",
   "metadata": {},
   "outputs": [
    {
     "name": "stdout",
     "output_type": "stream",
     "text": [
      "<class 'pandas.core.frame.DataFrame'>\n",
      "RangeIndex: 12 entries, 0 to 11\n",
      "Data columns (total 1 columns):\n",
      " #   Column  Non-Null Count  Dtype\n",
      "---  ------  --------------  -----\n",
      " 0   Mark    12 non-null     int64\n",
      "dtypes: int64(1)\n",
      "memory usage: 224.0 bytes\n",
      "None\n"
     ]
    }
   ],
   "source": [
    "import pandas as pd\n",
    "\n",
    "df = pd.read_csv(\"marks.csv\")\n",
    "print(df.info())"
   ]
  },
  {
   "cell_type": "code",
   "execution_count": 2,
   "id": "8cb23147",
   "metadata": {},
   "outputs": [
    {
     "name": "stdout",
     "output_type": "stream",
     "text": [
      "count = 12\n"
     ]
    }
   ],
   "source": [
    "x = df['Mark'].count()\n",
    "print(\"count =\", x)"
   ]
  },
  {
   "cell_type": "code",
   "execution_count": 3,
   "id": "d285bdc9",
   "metadata": {},
   "outputs": [
    {
     "name": "stdout",
     "output_type": "stream",
     "text": [
      "mean = 63.0\n"
     ]
    }
   ],
   "source": [
    "x = df['Mark'].mean()\n",
    "print(\"mean =\", x)"
   ]
  },
  {
   "cell_type": "code",
   "execution_count": 4,
   "id": "731c5383",
   "metadata": {},
   "outputs": [
    {
     "name": "stdout",
     "output_type": "stream",
     "text": [
      "min = 40\n"
     ]
    }
   ],
   "source": [
    "x = df['Mark'].min()\n",
    "print(\"min =\", x)"
   ]
  },
  {
   "cell_type": "code",
   "execution_count": 5,
   "id": "f647f722",
   "metadata": {},
   "outputs": [
    {
     "name": "stdout",
     "output_type": "stream",
     "text": [
      "max = 92\n"
     ]
    }
   ],
   "source": [
    "x = df['Mark'].max()\n",
    "print(\"max =\", x)"
   ]
  },
  {
   "cell_type": "code",
   "execution_count": 6,
   "id": "7a848b6d",
   "metadata": {},
   "outputs": [
    {
     "name": "stdout",
     "output_type": "stream",
     "text": [
      "median = 62.5\n"
     ]
    }
   ],
   "source": [
    "x = df['Mark'].median()\n",
    "print(\"median =\", x)"
   ]
  },
  {
   "cell_type": "code",
   "execution_count": 7,
   "id": "7c94e4c5",
   "metadata": {},
   "outputs": [
    {
     "name": "stdout",
     "output_type": "stream",
     "text": [
      "%50 = 62.5\n"
     ]
    }
   ],
   "source": [
    "x = df['Mark'].quantile(0.5)\n",
    "print(\"%50 =\", x)"
   ]
  },
  {
   "cell_type": "code",
   "execution_count": 9,
   "id": "7663b3db",
   "metadata": {},
   "outputs": [
    {
     "name": "stdout",
     "output_type": "stream",
     "text": [
      "%0.25 = 50.0\n"
     ]
    }
   ],
   "source": [
    "x = df['Mark'].quantile(0.25)\n",
    "print(\"%0.25 =\", x)"
   ]
  },
  {
   "cell_type": "code",
   "execution_count": 10,
   "id": "1019d906",
   "metadata": {},
   "outputs": [
    {
     "name": "stdout",
     "output_type": "stream",
     "text": [
      "%0.75 = 75.0\n"
     ]
    }
   ],
   "source": [
    "x = df['Mark'].quantile(0.75)\n",
    "print(\"%0.75 =\", x)"
   ]
  }
 ],
 "metadata": {
  "kernelspec": {
   "display_name": "Python 3",
   "language": "python",
   "name": "python3"
  },
  "language_info": {
   "codemirror_mode": {
    "name": "ipython",
    "version": 3
   },
   "file_extension": ".py",
   "mimetype": "text/x-python",
   "name": "python",
   "nbconvert_exporter": "python",
   "pygments_lexer": "ipython3",
   "version": "3.7.4"
  }
 },
 "nbformat": 4,
 "nbformat_minor": 5
}
